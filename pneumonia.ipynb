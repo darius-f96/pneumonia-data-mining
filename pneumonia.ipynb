{
 "cells": [
  {
   "cell_type": "markdown",
   "metadata": {},
   "source": [
    "Dependencies"
   ]
  },
  {
   "cell_type": "code",
   "execution_count": 1,
   "metadata": {},
   "outputs": [
    {
     "name": "stdout",
     "output_type": "stream",
     "text": [
      "Requirement already satisfied: keras in /home/dariu/anaconda3/envs/gpu_env/lib/python3.10/site-packages (3.8.0)\n",
      "Collecting tensorflow-gpu\n",
      "  Using cached tensorflow-gpu-2.12.0.tar.gz (2.6 kB)\n",
      "  Preparing metadata (setup.py) ... \u001b[?25lerror\n",
      "  \u001b[1;31merror\u001b[0m: \u001b[1msubprocess-exited-with-error\u001b[0m\n",
      "  \n",
      "  \u001b[31m×\u001b[0m \u001b[32mpython setup.py egg_info\u001b[0m did not run successfully.\n",
      "  \u001b[31m│\u001b[0m exit code: \u001b[1;36m1\u001b[0m\n",
      "  \u001b[31m╰─>\u001b[0m \u001b[31m[39 lines of output]\u001b[0m\n",
      "  \u001b[31m   \u001b[0m Traceback (most recent call last):\n",
      "  \u001b[31m   \u001b[0m   File \"/home/dariu/anaconda3/envs/gpu_env/lib/python3.10/site-packages/packaging/requirements.py\", line 36, in __init__\n",
      "  \u001b[31m   \u001b[0m     parsed = _parse_requirement(requirement_string)\n",
      "  \u001b[31m   \u001b[0m   File \"/home/dariu/anaconda3/envs/gpu_env/lib/python3.10/site-packages/packaging/_parser.py\", line 62, in parse_requirement\n",
      "  \u001b[31m   \u001b[0m     return _parse_requirement(Tokenizer(source, rules=DEFAULT_RULES))\n",
      "  \u001b[31m   \u001b[0m   File \"/home/dariu/anaconda3/envs/gpu_env/lib/python3.10/site-packages/packaging/_parser.py\", line 80, in _parse_requirement\n",
      "  \u001b[31m   \u001b[0m     url, specifier, marker = _parse_requirement_details(tokenizer)\n",
      "  \u001b[31m   \u001b[0m   File \"/home/dariu/anaconda3/envs/gpu_env/lib/python3.10/site-packages/packaging/_parser.py\", line 124, in _parse_requirement_details\n",
      "  \u001b[31m   \u001b[0m     marker = _parse_requirement_marker(\n",
      "  \u001b[31m   \u001b[0m   File \"/home/dariu/anaconda3/envs/gpu_env/lib/python3.10/site-packages/packaging/_parser.py\", line 145, in _parse_requirement_marker\n",
      "  \u001b[31m   \u001b[0m     tokenizer.raise_syntax_error(\n",
      "  \u001b[31m   \u001b[0m   File \"/home/dariu/anaconda3/envs/gpu_env/lib/python3.10/site-packages/packaging/_tokenizer.py\", line 167, in raise_syntax_error\n",
      "  \u001b[31m   \u001b[0m     raise ParserSyntaxError(\n",
      "  \u001b[31m   \u001b[0m packaging._tokenizer.ParserSyntaxError: Expected end or semicolon (after name and no valid version specifier)\n",
      "  \u001b[31m   \u001b[0m     python_version>\"3.7\"\n",
      "  \u001b[31m   \u001b[0m                   ^\n",
      "  \u001b[31m   \u001b[0m \n",
      "  \u001b[31m   \u001b[0m The above exception was the direct cause of the following exception:\n",
      "  \u001b[31m   \u001b[0m \n",
      "  \u001b[31m   \u001b[0m Traceback (most recent call last):\n",
      "  \u001b[31m   \u001b[0m   File \"<string>\", line 2, in <module>\n",
      "  \u001b[31m   \u001b[0m   File \"<pip-setuptools-caller>\", line 34, in <module>\n",
      "  \u001b[31m   \u001b[0m   File \"/tmp/pip-install-m23na39z/tensorflow-gpu_2e20b71e6d38433eb947a96b95b70c35/setup.py\", line 40, in <module>\n",
      "  \u001b[31m   \u001b[0m     setuptools.setup()\n",
      "  \u001b[31m   \u001b[0m   File \"/home/dariu/anaconda3/envs/gpu_env/lib/python3.10/site-packages/setuptools/__init__.py\", line 116, in setup\n",
      "  \u001b[31m   \u001b[0m     _install_setup_requires(attrs)\n",
      "  \u001b[31m   \u001b[0m   File \"/home/dariu/anaconda3/envs/gpu_env/lib/python3.10/site-packages/setuptools/__init__.py\", line 87, in _install_setup_requires\n",
      "  \u001b[31m   \u001b[0m     dist.parse_config_files(ignore_option_errors=True)\n",
      "  \u001b[31m   \u001b[0m   File \"/home/dariu/anaconda3/envs/gpu_env/lib/python3.10/site-packages/setuptools/dist.py\", line 610, in parse_config_files\n",
      "  \u001b[31m   \u001b[0m     self._finalize_requires()\n",
      "  \u001b[31m   \u001b[0m   File \"/home/dariu/anaconda3/envs/gpu_env/lib/python3.10/site-packages/setuptools/dist.py\", line 344, in _finalize_requires\n",
      "  \u001b[31m   \u001b[0m     self._normalize_requires()\n",
      "  \u001b[31m   \u001b[0m   File \"/home/dariu/anaconda3/envs/gpu_env/lib/python3.10/site-packages/setuptools/dist.py\", line 359, in _normalize_requires\n",
      "  \u001b[31m   \u001b[0m     self.install_requires = list(map(str, _reqs.parse(install_requires)))\n",
      "  \u001b[31m   \u001b[0m   File \"/home/dariu/anaconda3/envs/gpu_env/lib/python3.10/site-packages/packaging/requirements.py\", line 38, in __init__\n",
      "  \u001b[31m   \u001b[0m     raise InvalidRequirement(str(e)) from e\n",
      "  \u001b[31m   \u001b[0m packaging.requirements.InvalidRequirement: Expected end or semicolon (after name and no valid version specifier)\n",
      "  \u001b[31m   \u001b[0m     python_version>\"3.7\"\n",
      "  \u001b[31m   \u001b[0m                   ^\n",
      "  \u001b[31m   \u001b[0m \u001b[31m[end of output]\u001b[0m\n",
      "  \n",
      "  \u001b[1;35mnote\u001b[0m: This error originates from a subprocess, and is likely not a problem with pip.\n",
      "\u001b[?25h\u001b[1;31merror\u001b[0m: \u001b[1mmetadata-generation-failed\u001b[0m\n",
      "\n",
      "\u001b[31m×\u001b[0m Encountered error while generating package metadata.\n",
      "\u001b[31m╰─>\u001b[0m See above for output.\n",
      "\n",
      "\u001b[1;35mnote\u001b[0m: This is an issue with the package mentioned above, not pip.\n",
      "\u001b[1;36mhint\u001b[0m: See above for details.\n",
      "Requirement already satisfied: matplotlib in /home/dariu/anaconda3/envs/gpu_env/lib/python3.10/site-packages (3.10.0)\n",
      "Requirement already satisfied: contourpy>=1.0.1 in /home/dariu/anaconda3/envs/gpu_env/lib/python3.10/site-packages (from matplotlib) (1.3.1)\n",
      "Requirement already satisfied: cycler>=0.10 in /home/dariu/anaconda3/envs/gpu_env/lib/python3.10/site-packages (from matplotlib) (0.12.1)\n",
      "Requirement already satisfied: fonttools>=4.22.0 in /home/dariu/anaconda3/envs/gpu_env/lib/python3.10/site-packages (from matplotlib) (4.55.3)\n",
      "Requirement already satisfied: kiwisolver>=1.3.1 in /home/dariu/anaconda3/envs/gpu_env/lib/python3.10/site-packages (from matplotlib) (1.4.8)\n",
      "Requirement already satisfied: numpy>=1.23 in /home/dariu/anaconda3/envs/gpu_env/lib/python3.10/site-packages (from matplotlib) (2.0.2)\n",
      "Requirement already satisfied: packaging>=20.0 in /home/dariu/anaconda3/envs/gpu_env/lib/python3.10/site-packages (from matplotlib) (24.2)\n",
      "Requirement already satisfied: pillow>=8 in /home/dariu/anaconda3/envs/gpu_env/lib/python3.10/site-packages (from matplotlib) (11.1.0)\n",
      "Requirement already satisfied: pyparsing>=2.3.1 in /home/dariu/anaconda3/envs/gpu_env/lib/python3.10/site-packages (from matplotlib) (3.2.1)\n",
      "Requirement already satisfied: python-dateutil>=2.7 in /home/dariu/anaconda3/envs/gpu_env/lib/python3.10/site-packages (from matplotlib) (2.9.0.post0)\n",
      "Requirement already satisfied: six>=1.5 in /home/dariu/anaconda3/envs/gpu_env/lib/python3.10/site-packages (from python-dateutil>=2.7->matplotlib) (1.17.0)\n",
      "Requirement already satisfied: numpy in /home/dariu/anaconda3/envs/gpu_env/lib/python3.10/site-packages (2.0.2)\n",
      "Requirement already satisfied: pandas in /home/dariu/anaconda3/envs/gpu_env/lib/python3.10/site-packages (2.2.3)\n",
      "Requirement already satisfied: numpy>=1.22.4 in /home/dariu/anaconda3/envs/gpu_env/lib/python3.10/site-packages (from pandas) (2.0.2)\n",
      "Requirement already satisfied: python-dateutil>=2.8.2 in /home/dariu/anaconda3/envs/gpu_env/lib/python3.10/site-packages (from pandas) (2.9.0.post0)\n",
      "Requirement already satisfied: pytz>=2020.1 in /home/dariu/anaconda3/envs/gpu_env/lib/python3.10/site-packages (from pandas) (2024.2)\n",
      "Requirement already satisfied: tzdata>=2022.7 in /home/dariu/anaconda3/envs/gpu_env/lib/python3.10/site-packages (from pandas) (2024.2)\n",
      "Requirement already satisfied: six>=1.5 in /home/dariu/anaconda3/envs/gpu_env/lib/python3.10/site-packages (from python-dateutil>=2.8.2->pandas) (1.17.0)\n",
      "Requirement already satisfied: scikit-learn in /home/dariu/anaconda3/envs/gpu_env/lib/python3.10/site-packages (1.6.1)\n",
      "Requirement already satisfied: numpy>=1.19.5 in /home/dariu/anaconda3/envs/gpu_env/lib/python3.10/site-packages (from scikit-learn) (2.0.2)\n",
      "Requirement already satisfied: scipy>=1.6.0 in /home/dariu/anaconda3/envs/gpu_env/lib/python3.10/site-packages (from scikit-learn) (1.15.1)\n",
      "Requirement already satisfied: joblib>=1.2.0 in /home/dariu/anaconda3/envs/gpu_env/lib/python3.10/site-packages (from scikit-learn) (1.4.2)\n",
      "Requirement already satisfied: threadpoolctl>=3.1.0 in /home/dariu/anaconda3/envs/gpu_env/lib/python3.10/site-packages (from scikit-learn) (3.5.0)\n",
      "Requirement already satisfied: seaborn in /home/dariu/anaconda3/envs/gpu_env/lib/python3.10/site-packages (0.13.2)\n",
      "Requirement already satisfied: numpy!=1.24.0,>=1.20 in /home/dariu/anaconda3/envs/gpu_env/lib/python3.10/site-packages (from seaborn) (2.0.2)\n",
      "Requirement already satisfied: pandas>=1.2 in /home/dariu/anaconda3/envs/gpu_env/lib/python3.10/site-packages (from seaborn) (2.2.3)\n",
      "Requirement already satisfied: matplotlib!=3.6.1,>=3.4 in /home/dariu/anaconda3/envs/gpu_env/lib/python3.10/site-packages (from seaborn) (3.10.0)\n",
      "Requirement already satisfied: contourpy>=1.0.1 in /home/dariu/anaconda3/envs/gpu_env/lib/python3.10/site-packages (from matplotlib!=3.6.1,>=3.4->seaborn) (1.3.1)\n",
      "Requirement already satisfied: cycler>=0.10 in /home/dariu/anaconda3/envs/gpu_env/lib/python3.10/site-packages (from matplotlib!=3.6.1,>=3.4->seaborn) (0.12.1)\n",
      "Requirement already satisfied: fonttools>=4.22.0 in /home/dariu/anaconda3/envs/gpu_env/lib/python3.10/site-packages (from matplotlib!=3.6.1,>=3.4->seaborn) (4.55.3)\n",
      "Requirement already satisfied: kiwisolver>=1.3.1 in /home/dariu/anaconda3/envs/gpu_env/lib/python3.10/site-packages (from matplotlib!=3.6.1,>=3.4->seaborn) (1.4.8)\n",
      "Requirement already satisfied: packaging>=20.0 in /home/dariu/anaconda3/envs/gpu_env/lib/python3.10/site-packages (from matplotlib!=3.6.1,>=3.4->seaborn) (24.2)\n",
      "Requirement already satisfied: pillow>=8 in /home/dariu/anaconda3/envs/gpu_env/lib/python3.10/site-packages (from matplotlib!=3.6.1,>=3.4->seaborn) (11.1.0)\n",
      "Requirement already satisfied: pyparsing>=2.3.1 in /home/dariu/anaconda3/envs/gpu_env/lib/python3.10/site-packages (from matplotlib!=3.6.1,>=3.4->seaborn) (3.2.1)\n",
      "Requirement already satisfied: python-dateutil>=2.7 in /home/dariu/anaconda3/envs/gpu_env/lib/python3.10/site-packages (from matplotlib!=3.6.1,>=3.4->seaborn) (2.9.0.post0)\n",
      "Requirement already satisfied: pytz>=2020.1 in /home/dariu/anaconda3/envs/gpu_env/lib/python3.10/site-packages (from pandas>=1.2->seaborn) (2024.2)\n",
      "Requirement already satisfied: tzdata>=2022.7 in /home/dariu/anaconda3/envs/gpu_env/lib/python3.10/site-packages (from pandas>=1.2->seaborn) (2024.2)\n",
      "Requirement already satisfied: six>=1.5 in /home/dariu/anaconda3/envs/gpu_env/lib/python3.10/site-packages (from python-dateutil>=2.7->matplotlib!=3.6.1,>=3.4->seaborn) (1.17.0)\n",
      "Requirement already satisfied: tensorflow[and-cuda] in /home/dariu/anaconda3/envs/gpu_env/lib/python3.10/site-packages (2.18.0)\n",
      "Requirement already satisfied: absl-py>=1.0.0 in /home/dariu/anaconda3/envs/gpu_env/lib/python3.10/site-packages (from tensorflow[and-cuda]) (2.1.0)\n",
      "Requirement already satisfied: astunparse>=1.6.0 in /home/dariu/anaconda3/envs/gpu_env/lib/python3.10/site-packages (from tensorflow[and-cuda]) (1.6.3)\n",
      "Requirement already satisfied: flatbuffers>=24.3.25 in /home/dariu/anaconda3/envs/gpu_env/lib/python3.10/site-packages (from tensorflow[and-cuda]) (24.12.23)\n",
      "Requirement already satisfied: gast!=0.5.0,!=0.5.1,!=0.5.2,>=0.2.1 in /home/dariu/anaconda3/envs/gpu_env/lib/python3.10/site-packages (from tensorflow[and-cuda]) (0.6.0)\n",
      "Requirement already satisfied: google-pasta>=0.1.1 in /home/dariu/anaconda3/envs/gpu_env/lib/python3.10/site-packages (from tensorflow[and-cuda]) (0.2.0)\n",
      "Requirement already satisfied: libclang>=13.0.0 in /home/dariu/anaconda3/envs/gpu_env/lib/python3.10/site-packages (from tensorflow[and-cuda]) (18.1.1)\n",
      "Requirement already satisfied: opt-einsum>=2.3.2 in /home/dariu/anaconda3/envs/gpu_env/lib/python3.10/site-packages (from tensorflow[and-cuda]) (3.4.0)\n",
      "Requirement already satisfied: packaging in /home/dariu/anaconda3/envs/gpu_env/lib/python3.10/site-packages (from tensorflow[and-cuda]) (24.2)\n",
      "Requirement already satisfied: protobuf!=4.21.0,!=4.21.1,!=4.21.2,!=4.21.3,!=4.21.4,!=4.21.5,<6.0.0dev,>=3.20.3 in /home/dariu/anaconda3/envs/gpu_env/lib/python3.10/site-packages (from tensorflow[and-cuda]) (5.29.3)\n",
      "Requirement already satisfied: requests<3,>=2.21.0 in /home/dariu/anaconda3/envs/gpu_env/lib/python3.10/site-packages (from tensorflow[and-cuda]) (2.32.3)\n",
      "Requirement already satisfied: setuptools in /home/dariu/anaconda3/envs/gpu_env/lib/python3.10/site-packages (from tensorflow[and-cuda]) (75.1.0)\n",
      "Requirement already satisfied: six>=1.12.0 in /home/dariu/anaconda3/envs/gpu_env/lib/python3.10/site-packages (from tensorflow[and-cuda]) (1.17.0)\n",
      "Requirement already satisfied: termcolor>=1.1.0 in /home/dariu/anaconda3/envs/gpu_env/lib/python3.10/site-packages (from tensorflow[and-cuda]) (2.5.0)\n",
      "Requirement already satisfied: typing-extensions>=3.6.6 in /home/dariu/anaconda3/envs/gpu_env/lib/python3.10/site-packages (from tensorflow[and-cuda]) (4.12.2)\n",
      "Requirement already satisfied: wrapt>=1.11.0 in /home/dariu/anaconda3/envs/gpu_env/lib/python3.10/site-packages (from tensorflow[and-cuda]) (1.17.1)\n",
      "Requirement already satisfied: grpcio<2.0,>=1.24.3 in /home/dariu/anaconda3/envs/gpu_env/lib/python3.10/site-packages (from tensorflow[and-cuda]) (1.69.0)\n",
      "Requirement already satisfied: tensorboard<2.19,>=2.18 in /home/dariu/anaconda3/envs/gpu_env/lib/python3.10/site-packages (from tensorflow[and-cuda]) (2.18.0)\n",
      "Requirement already satisfied: keras>=3.5.0 in /home/dariu/anaconda3/envs/gpu_env/lib/python3.10/site-packages (from tensorflow[and-cuda]) (3.8.0)\n",
      "Requirement already satisfied: numpy<2.1.0,>=1.26.0 in /home/dariu/anaconda3/envs/gpu_env/lib/python3.10/site-packages (from tensorflow[and-cuda]) (2.0.2)\n",
      "Requirement already satisfied: h5py>=3.11.0 in /home/dariu/anaconda3/envs/gpu_env/lib/python3.10/site-packages (from tensorflow[and-cuda]) (3.12.1)\n",
      "Requirement already satisfied: ml-dtypes<0.5.0,>=0.4.0 in /home/dariu/anaconda3/envs/gpu_env/lib/python3.10/site-packages (from tensorflow[and-cuda]) (0.4.1)\n",
      "Requirement already satisfied: tensorflow-io-gcs-filesystem>=0.23.1 in /home/dariu/anaconda3/envs/gpu_env/lib/python3.10/site-packages (from tensorflow[and-cuda]) (0.37.1)\n",
      "Requirement already satisfied: nvidia-cublas-cu12==12.5.3.2 in /home/dariu/anaconda3/envs/gpu_env/lib/python3.10/site-packages (from tensorflow[and-cuda]) (12.5.3.2)\n",
      "Requirement already satisfied: nvidia-cuda-cupti-cu12==12.5.82 in /home/dariu/anaconda3/envs/gpu_env/lib/python3.10/site-packages (from tensorflow[and-cuda]) (12.5.82)\n",
      "Requirement already satisfied: nvidia-cuda-nvcc-cu12==12.5.82 in /home/dariu/anaconda3/envs/gpu_env/lib/python3.10/site-packages (from tensorflow[and-cuda]) (12.5.82)\n",
      "Requirement already satisfied: nvidia-cuda-nvrtc-cu12==12.5.82 in /home/dariu/anaconda3/envs/gpu_env/lib/python3.10/site-packages (from tensorflow[and-cuda]) (12.5.82)\n",
      "Requirement already satisfied: nvidia-cuda-runtime-cu12==12.5.82 in /home/dariu/anaconda3/envs/gpu_env/lib/python3.10/site-packages (from tensorflow[and-cuda]) (12.5.82)\n",
      "Requirement already satisfied: nvidia-cudnn-cu12==9.3.0.75 in /home/dariu/anaconda3/envs/gpu_env/lib/python3.10/site-packages (from tensorflow[and-cuda]) (9.3.0.75)\n",
      "Requirement already satisfied: nvidia-cufft-cu12==11.2.3.61 in /home/dariu/anaconda3/envs/gpu_env/lib/python3.10/site-packages (from tensorflow[and-cuda]) (11.2.3.61)\n",
      "Requirement already satisfied: nvidia-curand-cu12==10.3.6.82 in /home/dariu/anaconda3/envs/gpu_env/lib/python3.10/site-packages (from tensorflow[and-cuda]) (10.3.6.82)\n",
      "Requirement already satisfied: nvidia-cusolver-cu12==11.6.3.83 in /home/dariu/anaconda3/envs/gpu_env/lib/python3.10/site-packages (from tensorflow[and-cuda]) (11.6.3.83)\n",
      "Requirement already satisfied: nvidia-cusparse-cu12==12.5.1.3 in /home/dariu/anaconda3/envs/gpu_env/lib/python3.10/site-packages (from tensorflow[and-cuda]) (12.5.1.3)\n",
      "Requirement already satisfied: nvidia-nccl-cu12==2.21.5 in /home/dariu/anaconda3/envs/gpu_env/lib/python3.10/site-packages (from tensorflow[and-cuda]) (2.21.5)\n",
      "Requirement already satisfied: nvidia-nvjitlink-cu12==12.5.82 in /home/dariu/anaconda3/envs/gpu_env/lib/python3.10/site-packages (from tensorflow[and-cuda]) (12.5.82)\n",
      "Requirement already satisfied: wheel<1.0,>=0.23.0 in /home/dariu/anaconda3/envs/gpu_env/lib/python3.10/site-packages (from astunparse>=1.6.0->tensorflow[and-cuda]) (0.44.0)\n",
      "Requirement already satisfied: rich in /home/dariu/anaconda3/envs/gpu_env/lib/python3.10/site-packages (from keras>=3.5.0->tensorflow[and-cuda]) (13.9.4)\n",
      "Requirement already satisfied: namex in /home/dariu/anaconda3/envs/gpu_env/lib/python3.10/site-packages (from keras>=3.5.0->tensorflow[and-cuda]) (0.0.8)\n",
      "Requirement already satisfied: optree in /home/dariu/anaconda3/envs/gpu_env/lib/python3.10/site-packages (from keras>=3.5.0->tensorflow[and-cuda]) (0.13.1)\n",
      "Requirement already satisfied: charset_normalizer<4,>=2 in /home/dariu/anaconda3/envs/gpu_env/lib/python3.10/site-packages (from requests<3,>=2.21.0->tensorflow[and-cuda]) (3.4.1)\n",
      "Requirement already satisfied: idna<4,>=2.5 in /home/dariu/anaconda3/envs/gpu_env/lib/python3.10/site-packages (from requests<3,>=2.21.0->tensorflow[and-cuda]) (3.10)\n",
      "Requirement already satisfied: urllib3<3,>=1.21.1 in /home/dariu/anaconda3/envs/gpu_env/lib/python3.10/site-packages (from requests<3,>=2.21.0->tensorflow[and-cuda]) (2.3.0)\n",
      "Requirement already satisfied: certifi>=2017.4.17 in /home/dariu/anaconda3/envs/gpu_env/lib/python3.10/site-packages (from requests<3,>=2.21.0->tensorflow[and-cuda]) (2024.12.14)\n",
      "Requirement already satisfied: markdown>=2.6.8 in /home/dariu/anaconda3/envs/gpu_env/lib/python3.10/site-packages (from tensorboard<2.19,>=2.18->tensorflow[and-cuda]) (3.7)\n",
      "Requirement already satisfied: tensorboard-data-server<0.8.0,>=0.7.0 in /home/dariu/anaconda3/envs/gpu_env/lib/python3.10/site-packages (from tensorboard<2.19,>=2.18->tensorflow[and-cuda]) (0.7.2)\n",
      "Requirement already satisfied: werkzeug>=1.0.1 in /home/dariu/anaconda3/envs/gpu_env/lib/python3.10/site-packages (from tensorboard<2.19,>=2.18->tensorflow[and-cuda]) (3.1.3)\n",
      "Requirement already satisfied: MarkupSafe>=2.1.1 in /home/dariu/anaconda3/envs/gpu_env/lib/python3.10/site-packages (from werkzeug>=1.0.1->tensorboard<2.19,>=2.18->tensorflow[and-cuda]) (3.0.2)\n",
      "Requirement already satisfied: markdown-it-py>=2.2.0 in /home/dariu/anaconda3/envs/gpu_env/lib/python3.10/site-packages (from rich->keras>=3.5.0->tensorflow[and-cuda]) (3.0.0)\n",
      "Requirement already satisfied: pygments<3.0.0,>=2.13.0 in /home/dariu/anaconda3/envs/gpu_env/lib/python3.10/site-packages (from rich->keras>=3.5.0->tensorflow[and-cuda]) (2.19.1)\n",
      "Requirement already satisfied: mdurl~=0.1 in /home/dariu/anaconda3/envs/gpu_env/lib/python3.10/site-packages (from markdown-it-py>=2.2.0->rich->keras>=3.5.0->tensorflow[and-cuda]) (0.1.2)\n"
     ]
    }
   ],
   "source": [
    "!pip3 install keras tensorflow-gpu cudatoolkit cudnn\n",
    "!pip3 install matplotlib\n",
    "!pip3 install numpy\n",
    "!pip3 install pandas\n",
    "!pip3 install scikit-learn\n",
    "!pip3 install seaborn\n",
    "!pip3 install 'tensorflow[and-cuda]'"
   ]
  },
  {
   "cell_type": "markdown",
   "metadata": {},
   "source": [
    "Imports"
   ]
  },
  {
   "cell_type": "code",
   "execution_count": 2,
   "metadata": {},
   "outputs": [
    {
     "name": "stderr",
     "output_type": "stream",
     "text": [
      "2025-01-11 19:33:39.567958: E external/local_xla/xla/stream_executor/cuda/cuda_fft.cc:477] Unable to register cuFFT factory: Attempting to register factory for plugin cuFFT when one has already been registered\n",
      "WARNING: All log messages before absl::InitializeLog() is called are written to STDERR\n",
      "E0000 00:00:1736616819.678592    1607 cuda_dnn.cc:8310] Unable to register cuDNN factory: Attempting to register factory for plugin cuDNN when one has already been registered\n",
      "E0000 00:00:1736616819.710438    1607 cuda_blas.cc:1418] Unable to register cuBLAS factory: Attempting to register factory for plugin cuBLAS when one has already been registered\n",
      "2025-01-11 19:33:39.993390: I tensorflow/core/platform/cpu_feature_guard.cc:210] This TensorFlow binary is optimized to use available CPU instructions in performance-critical operations.\n",
      "To enable the following instructions: AVX2 FMA, in other operations, rebuild TensorFlow with the appropriate compiler flags.\n"
     ]
    }
   ],
   "source": [
    "import numpy as np\n",
    "import pandas as pd\n",
    "import matplotlib.pyplot as plt\n",
    "import seaborn as sns\n",
    "import torch\n",
    "import os\n",
    "from sklearn.metrics import confusion_matrix, classification_report\n",
    "\n",
    "import tensorflow as tf\n",
    "from tensorflow.keras.preprocessing.image import ImageDataGenerator\n",
    "from tensorflow.keras.applications import VGG16, ResNet50, DenseNet121"
   ]
  },
  {
   "cell_type": "markdown",
   "metadata": {},
   "source": [
    "Data preprocessing"
   ]
  },
  {
   "cell_type": "code",
   "execution_count": 3,
   "metadata": {},
   "outputs": [],
   "source": [
    "def create_data_generators(data_dir='chest_xray', img_size=(224, 224), batch_size=32):\n",
    "\n",
    "    train_dataset = tf.keras.preprocessing.image_dataset_from_directory(\n",
    "        f'{data_dir}/train',\n",
    "        seed=123,\n",
    "        image_size=img_size,\n",
    "        batch_size=batch_size,\n",
    "        label_mode='binary'\n",
    "    )\n",
    "    \n",
    "    val_dataset = tf.keras.preprocessing.image_dataset_from_directory(\n",
    "        f'{data_dir}/val',\n",
    "        seed=123,\n",
    "        image_size=img_size,\n",
    "        batch_size=batch_size,\n",
    "        label_mode='binary'\n",
    "    )\n",
    "    \n",
    "    test_dataset = tf.keras.preprocessing.image_dataset_from_directory(\n",
    "        f'{data_dir}/test',\n",
    "        seed=123,\n",
    "        image_size=img_size,\n",
    "        batch_size=batch_size,\n",
    "        label_mode='binary'\n",
    "    )\n",
    "    \n",
    "    data_augmentation = tf.keras.Sequential([\n",
    "        tf.keras.layers.RandomRotation(0.2),\n",
    "        tf.keras.layers.RandomZoom(0.2),\n",
    "        tf.keras.layers.RandomFlip(\"horizontal\"),\n",
    "        tf.keras.layers.RandomContrast(0.2)\n",
    "    ])\n",
    "    \n",
    "    normalization_layer = tf.keras.layers.Rescaling(1./255)\n",
    "    \n",
    "    # Apply augmentation and normalization to training data\n",
    "    train_dataset = train_dataset.map(\n",
    "        lambda x, y: (data_augmentation(x), y)\n",
    "    ).map(\n",
    "        lambda x, y: (normalization_layer(x), y)\n",
    "    )\n",
    "    \n",
    "    # Apply only normalization to validation and test data\n",
    "    val_dataset = val_dataset.map(\n",
    "        lambda x, y: (normalization_layer(x), y)\n",
    "    )\n",
    "    test_dataset = test_dataset.map(\n",
    "        lambda x, y: (normalization_layer(x), y)\n",
    "    )\n",
    "    \n",
    "    # Configure datasets for performance\n",
    "    AUTOTUNE = tf.data.AUTOTUNE\n",
    "    train_dataset = train_dataset.cache().prefetch(buffer_size=AUTOTUNE)\n",
    "    val_dataset = val_dataset.cache().prefetch(buffer_size=AUTOTUNE)\n",
    "    test_dataset = test_dataset.cache().prefetch(buffer_size=AUTOTUNE)\n",
    "    \n",
    "    return train_dataset, val_dataset, test_dataset\n"
   ]
  },
  {
   "cell_type": "markdown",
   "metadata": {},
   "source": [
    "Model Architectures"
   ]
  },
  {
   "cell_type": "code",
   "execution_count": 4,
   "metadata": {},
   "outputs": [],
   "source": [
    "def create_custom_cnn():\n",
    "    model = tf.keras.Sequential([\n",
    "        tf.keras.layers.Conv2D(32, 3, activation='relu', input_shape=(224, 224, 3)),\n",
    "        tf.keras.layers.MaxPooling2D(),\n",
    "        tf.keras.layers.Conv2D(64, 3, activation='relu'),\n",
    "        tf.keras.layers.MaxPooling2D(),\n",
    "        tf.keras.layers.Conv2D(128, 3, activation='relu'),\n",
    "        tf.keras.layers.MaxPooling2D(),\n",
    "        tf.keras.layers.Flatten(),\n",
    "        tf.keras.layers.Dense(128, activation='relu'),\n",
    "        tf.keras.layers.Dropout(0.5),\n",
    "        tf.keras.layers.Dense(1, activation='sigmoid')\n",
    "    ])\n",
    "    return model\n",
    "\n",
    "def create_transfer_learning_model(base_model_name='VGG16'):\n",
    "\n",
    "    if base_model_name == 'VGG16':\n",
    "        base_model = VGG16(weights='imagenet', include_top=False, input_shape=(224, 224, 3))\n",
    "    elif base_model_name == 'ResNet50':\n",
    "        base_model = ResNet50(weights='imagenet', include_top=False, input_shape=(224, 224, 3))\n",
    "    elif base_model_name == 'DenseNet121':\n",
    "        base_model = DenseNet121(weights='imagenet', include_top=False, input_shape=(224, 224, 3))\n",
    "        for layer in base_model.layers[-20:]:\n",
    "            layer.trainable = True\n",
    "    elif base_model_name == 'CNN':\n",
    "        base_model = create_custom_cnn()\n",
    "        return base_model\n",
    "    if base_model_name == 'VGG16' or base_model_name == 'ResNet50' or base_model_name == 'CNN':\n",
    "        model = tf.keras.Sequential([\n",
    "            base_model,\n",
    "            tf.keras.layers.GlobalAveragePooling2D(),\n",
    "            tf.keras.layers.Dense(256, activation='relu'),\n",
    "            tf.keras.layers.Dropout(0.5),\n",
    "            tf.keras.layers.Dense(1, activation='sigmoid')\n",
    "        ])\n",
    "    elif base_model_name == 'DenseNet121':\n",
    "        model = tf.keras.Sequential([\n",
    "            base_model,\n",
    "            tf.keras.layers.GlobalAveragePooling2D(),\n",
    "            tf.keras.layers.Dense(512, activation='relu'),\n",
    "            tf.keras.layers.BatchNormalization(),\n",
    "            tf.keras.layers.Dense(256, activation='relu'),\n",
    "            tf.keras.layers.BatchNormalization(),\n",
    "            tf.keras.layers.Dropout(0.5),\n",
    "            tf.keras.layers.Dense(1, activation='sigmoid')\n",
    "        ])\n",
    "    return model\n"
   ]
  },
  {
   "cell_type": "markdown",
   "metadata": {},
   "source": [
    "Training"
   ]
  },
  {
   "cell_type": "code",
   "execution_count": 5,
   "metadata": {},
   "outputs": [],
   "source": [
    "def load_saved_model(model_name):\n",
    "    \"\"\"Load a saved model\"\"\"\n",
    "    try:\n",
    "        return tf.keras.models.load_model(f'best_{model_name}.keras')\n",
    "    except (OSError, IOError) as e:\n",
    "        print(\"Model file not found, continuining with training...\")\n",
    "    return None\n",
    "\n",
    "def evaluate_model(model, test_dataset):\n",
    "    \"\"\"Evaluate a model on test data\"\"\"\n",
    "    test_loss, test_accuracy = model.evaluate(test_dataset)\n",
    "    print(f\"\\nTest accuracy: {test_accuracy:.4f}\")\n",
    "    print(f\"Test loss: {test_loss:.4f}\")\n",
    "    \n",
    "    return test_loss, test_accuracy"
   ]
  },
  {
   "cell_type": "code",
   "execution_count": 6,
   "metadata": {},
   "outputs": [],
   "source": [
    "def train_and_evaluate(model, model_name, continue_training=False):\n",
    "\n",
    "    tf.keras.backend.clear_session()\n",
    "    with torch.no_grad():\n",
    "        torch.cuda.empty_cache()\n",
    "\n",
    "    model_path = f'best_{model_name}.h5'\n",
    "\n",
    "    if not continue_training and os.path.exists(model_path):\n",
    "        print(f\"Loading existing model: {model_path}\")\n",
    "        model = tf.keras.models.load_model(model_path)\n",
    "    else:\n",
    "        print(\"Creating new model...\")\n",
    "        model = create_transfer_learning_model(model_name)\n",
    "\n",
    "    model.compile(\n",
    "        optimizer=tf.keras.optimizers.Adam(learning_rate=0.0001),\n",
    "        loss='binary_crossentropy',\n",
    "        metrics=['accuracy', tf.keras.metrics.Recall(), tf.keras.metrics.F1Score()]\n",
    "    )\n",
    "\n",
    "\n",
    "    callbacks = [\n",
    "        tf.keras.callbacks.EarlyStopping(\n",
    "        patience=5,  # Increased patience\n",
    "        restore_best_weights=True\n",
    "        ),\n",
    "        tf.keras.callbacks.ReduceLROnPlateau(\n",
    "            monitor='val_loss',\n",
    "            factor=0.2,\n",
    "            patience=3,\n",
    "            min_lr=0.00001\n",
    "        ),\n",
    "        tf.keras.callbacks.ModelCheckpoint(\n",
    "            f'best_{model_name}.keras',\n",
    "            save_best_only=True,\n",
    "            monitor='val_f1_score'\n",
    "        )\n",
    "    ]\n",
    "\n",
    "    history = model.fit(\n",
    "        train_ds,\n",
    "        validation_data=val_ds,\n",
    "        epochs=50,\n",
    "        callbacks=callbacks\n",
    "    )\n",
    "  \n",
    "    return model, history"
   ]
  },
  {
   "cell_type": "markdown",
   "metadata": {},
   "source": [
    "Model Comparison"
   ]
  },
  {
   "cell_type": "code",
   "execution_count": 7,
   "metadata": {},
   "outputs": [],
   "source": [
    "from tensorflow.keras import mixed_precision\n",
    "\n",
    "def compare_models():\n",
    "    models = {\n",
    "        'CNN': create_custom_cnn(),\n",
    "        'VGG16': create_transfer_learning_model('VGG16'),\n",
    "        'ResNet50': create_transfer_learning_model('ResNet50'),\n",
    "        'DenseNet121': create_transfer_learning_model('DenseNet121')\n",
    "    }\n",
    "    \n",
    "    results = {}\n",
    "    for name, model in models.items():\n",
    "        print(f\"Training {name}...\")\n",
    "        \n",
    "        if name == \"DenseNet121\":\n",
    "            policy = mixed_precision.Policy('mixed_float16')\n",
    "            mixed_precision.set_global_policy(policy)\n",
    "\n",
    "        trainedModel, history = train_and_evaluate(model, name)\n",
    "        if history.history != None:\n",
    "            results[name] = history.history\n",
    "    \n",
    "    return results\n",
    "\n"
   ]
  },
  {
   "cell_type": "markdown",
   "metadata": {},
   "source": [
    "Visualization"
   ]
  },
  {
   "cell_type": "code",
   "execution_count": 8,
   "metadata": {},
   "outputs": [],
   "source": [
    "def plot_results(results):\n",
    "    plt.figure(figsize=(12, 8))\n",
    "    for model_name, history in results.items():\n",
    "        plt.plot(history['val_accuracy'], label=f'{model_name}')\n",
    "    plt.title('Model Comparison')\n",
    "    plt.xlabel('Epoch')\n",
    "    plt.ylabel('Validation Accuracy')\n",
    "    plt.legend()\n",
    "    plt.show()\n"
   ]
  },
  {
   "cell_type": "markdown",
   "metadata": {},
   "source": [
    "Comparison"
   ]
  },
  {
   "cell_type": "code",
   "execution_count": 9,
   "metadata": {},
   "outputs": [],
   "source": [
    "def plot_performance_comparison(metrics):\n",
    "    # Bar plot for Recall and F1 Score\n",
    "    plt.figure(figsize=(12, 6))\n",
    "    \n",
    "    models = list(metrics.keys())\n",
    "    recalls = [m['recall'] for m in metrics.values()]\n",
    "    f1_scores = [m['f1'] for m in metrics.values()]\n",
    "    \n",
    "    x = np.arange(len(models))\n",
    "    width = 0.35\n",
    "    \n",
    "    plt.bar(x - width/2, recalls, width, label='Recall')\n",
    "    plt.bar(x + width/2, f1_scores, width, label='F1 Score')\n",
    "    \n",
    "    plt.xlabel('Models')\n",
    "    plt.ylabel('Score')\n",
    "    plt.title('Model Performance Comparison')\n",
    "    plt.xticks(x, models, rotation=45)\n",
    "    plt.legend()\n",
    "    plt.tight_layout()\n",
    "    plt.show()"
   ]
  },
  {
   "cell_type": "code",
   "execution_count": 10,
   "metadata": {},
   "outputs": [],
   "source": [
    "def plot_confusion_matrices(metrics):\n",
    "    fig, axes = plt.subplots(2, 2, figsize=(15, 15))\n",
    "    fig.suptitle('Confusion Matrices for Different Models')\n",
    "    \n",
    "    for (name, metric), ax in zip(metrics.items(), axes.flat):\n",
    "        sns.heatmap(metric['confusion_matrix'], \n",
    "                   annot=True, \n",
    "                   fmt='d',\n",
    "                   cmap='Blues',\n",
    "                   ax=ax)\n",
    "        ax.set_title(name)\n",
    "        ax.set_xlabel('Predicted')\n",
    "        ax.set_ylabel('True')\n",
    "    \n",
    "    plt.tight_layout()\n",
    "    plt.show()\n",
    "\n",
    "def create_performance_table(metrics):\n",
    "    data = {\n",
    "        'Model': [],\n",
    "        'Recall': [],\n",
    "        'F1 Score': []\n",
    "    }\n",
    "    \n",
    "    for name, metric in metrics.items():\n",
    "        data['Model'].append(name)\n",
    "        data['Recall'].append(f\"{metric['recall']:.4f}\")\n",
    "        data['F1 Score'].append(f\"{metric['f1']:.4f}\")\n",
    "    \n",
    "    return pd.DataFrame(data)"
   ]
  },
  {
   "cell_type": "code",
   "execution_count": 11,
   "metadata": {},
   "outputs": [],
   "source": [
    "from sklearn.metrics import classification_report, confusion_matrix, recall_score, f1_score\n",
    "\n",
    "def load_and_evaluate_models(test_ds):\n",
    "    metrics = {}\n",
    "    \n",
    "    model_names = ['ResNet50', 'VGG16', 'DenseNet121', 'CNN']\n",
    "    \n",
    "    for name in model_names:\n",
    "        model = load_saved_model(name)\n",
    "        \n",
    "        y_pred = model.predict(test_ds)\n",
    "        y_pred = (y_pred > 0.5).astype(int)\n",
    "        \n",
    "        y_true = np.concatenate([y for x, y in test_ds], axis=0)\n",
    "        \n",
    "        metrics[name] = {\n",
    "            'recall': recall_score(y_true, y_pred),\n",
    "            'f1': f1_score(y_true, y_pred),\n",
    "            'confusion_matrix': confusion_matrix(y_true, y_pred)\n",
    "        }\n",
    "\n",
    "    return metrics"
   ]
  },
  {
   "cell_type": "markdown",
   "metadata": {},
   "source": [
    "Main Program"
   ]
  },
  {
   "cell_type": "code",
   "execution_count": 12,
   "metadata": {},
   "outputs": [],
   "source": [
    "def setup_gpu():\n",
    "\n",
    "    gpus = tf.config.list_physical_devices('GPU')\n",
    "    if gpus:\n",
    "        for gpu in gpus:\n",
    "            tf.config.experimental.set_memory_growth(gpu, True)\n",
    "        print(f\"Number of TensorFlow GPUs: {len(gpus)}\")\n",
    "    \n",
    "    device = torch.device(\"cuda\" if torch.cuda.is_available() else \"cpu\")\n",
    "    return device"
   ]
  },
  {
   "cell_type": "code",
   "execution_count": 13,
   "metadata": {},
   "outputs": [
    {
     "name": "stdout",
     "output_type": "stream",
     "text": [
      "Number of TensorFlow GPUs: 1\n",
      "Running code on GPU: [PhysicalDevice(name='/physical_device:GPU:0', device_type='GPU')]\n",
      "Found 5216 files belonging to 2 classes.\n"
     ]
    },
    {
     "name": "stderr",
     "output_type": "stream",
     "text": [
      "I0000 00:00:1736616836.040678    1607 gpu_device.cc:2022] Created device /job:localhost/replica:0/task:0/device:GPU:0 with 5558 MB memory:  -> device: 0, name: NVIDIA GeForce RTX 3070 Ti, pci bus id: 0000:0a:00.0, compute capability: 8.6\n"
     ]
    },
    {
     "name": "stdout",
     "output_type": "stream",
     "text": [
      "Found 16 files belonging to 2 classes.\n",
      "Found 624 files belonging to 2 classes.\n"
     ]
    },
    {
     "name": "stderr",
     "output_type": "stream",
     "text": [
      "WARNING: All log messages before absl::InitializeLog() is called are written to STDERR\n",
      "I0000 00:00:1736616842.686740    4682 service.cc:148] XLA service 0x7f9ea4049ad0 initialized for platform CUDA (this does not guarantee that XLA will be used). Devices:\n",
      "I0000 00:00:1736616842.687180    4682 service.cc:156]   StreamExecutor device (0): NVIDIA GeForce RTX 3070 Ti, Compute Capability 8.6\n",
      "2025-01-11 19:34:02.730305: I tensorflow/compiler/mlir/tensorflow/utils/dump_mlir_util.cc:268] disabling MLIR crash reproducer, set env var `MLIR_CRASH_REPRODUCER_DIRECTORY` to enable.\n",
      "I0000 00:00:1736616843.037987    4682 cuda_dnn.cc:529] Loaded cuDNN version 90300\n",
      "2025-01-11 19:34:03.846867: I external/local_xla/xla/stream_executor/cuda/cuda_asm_compiler.cc:397] ptxas warning : Registers are spilled to local memory in function 'gemm_fusion_dot_1363_0', 112 bytes spill stores, 224 bytes spill loads\n",
      "\n",
      "2025-01-11 19:34:04.090427: I external/local_xla/xla/stream_executor/cuda/cuda_asm_compiler.cc:397] ptxas warning : Registers are spilled to local memory in function 'gemm_fusion_dot_1363', 220 bytes spill stores, 576 bytes spill loads\n",
      "\n"
     ]
    },
    {
     "name": "stdout",
     "output_type": "stream",
     "text": [
      "\u001b[1m 1/20\u001b[0m \u001b[32m━\u001b[0m\u001b[37m━━━━━━━━━━━━━━━━━━━\u001b[0m \u001b[1m5:41\u001b[0m 18s/step"
     ]
    },
    {
     "name": "stderr",
     "output_type": "stream",
     "text": [
      "I0000 00:00:1736616859.321415    4682 device_compiler.h:188] Compiled cluster using XLA!  This line is logged at most once for the lifetime of the process.\n"
     ]
    },
    {
     "name": "stdout",
     "output_type": "stream",
     "text": [
      "\u001b[1m20/20\u001b[0m \u001b[32m━━━━━━━━━━━━━━━━━━━━\u001b[0m\u001b[37m\u001b[0m \u001b[1m30s\u001b[0m 650ms/step\n"
     ]
    },
    {
     "name": "stderr",
     "output_type": "stream",
     "text": [
      "2025-01-11 19:34:31.880679: I tensorflow/core/framework/local_rendezvous.cc:405] Local rendezvous is aborting with status: OUT_OF_RANGE: End of sequence\n",
      "2025-01-11 19:34:44.711997: E external/local_xla/xla/service/slow_operation_alarm.cc:65] Trying algorithm eng11{k2=1,k3=0} for conv (f32[32,64,224,224]{3,2,1,0}, u8[0]{0}) custom-call(f32[32,64,224,224]{3,2,1,0}, f32[64,64,3,3]{3,2,1,0}, f32[64]{0}), window={size=3x3 pad=1_1x1_1}, dim_labels=bf01_oi01->bf01, custom_call_target=\"__cudnn$convBiasActivationForward\", backend_config={\"cudnn_conv_backend_config\":{\"activation_mode\":\"kRelu\",\"conv_result_scale\":1,\"leakyrelu_alpha\":0,\"side_input_scale\":0},\"force_earliest_schedule\":false,\"operation_queue_id\":\"0\",\"wait_on_operation_queues\":[]} is taking a while...\n",
      "2025-01-11 19:34:44.775233: E external/local_xla/xla/service/slow_operation_alarm.cc:133] The operation took 1.063341359s\n",
      "Trying algorithm eng11{k2=1,k3=0} for conv (f32[32,64,224,224]{3,2,1,0}, u8[0]{0}) custom-call(f32[32,64,224,224]{3,2,1,0}, f32[64,64,3,3]{3,2,1,0}, f32[64]{0}), window={size=3x3 pad=1_1x1_1}, dim_labels=bf01_oi01->bf01, custom_call_target=\"__cudnn$convBiasActivationForward\", backend_config={\"cudnn_conv_backend_config\":{\"activation_mode\":\"kRelu\",\"conv_result_scale\":1,\"leakyrelu_alpha\":0,\"side_input_scale\":0},\"force_earliest_schedule\":false,\"operation_queue_id\":\"0\",\"wait_on_operation_queues\":[]} is taking a while...\n",
      "2025-01-11 19:34:55.676389: E external/local_xla/xla/service/slow_operation_alarm.cc:65] Trying algorithm eng11{k2=3,k3=0} for conv (f32[32,128,112,112]{3,2,1,0}, u8[0]{0}) custom-call(f32[32,128,112,112]{3,2,1,0}, f32[128,128,3,3]{3,2,1,0}, f32[128]{0}), window={size=3x3 pad=1_1x1_1}, dim_labels=bf01_oi01->bf01, custom_call_target=\"__cudnn$convBiasActivationForward\", backend_config={\"cudnn_conv_backend_config\":{\"activation_mode\":\"kRelu\",\"conv_result_scale\":1,\"leakyrelu_alpha\":0,\"side_input_scale\":0},\"force_earliest_schedule\":false,\"operation_queue_id\":\"0\",\"wait_on_operation_queues\":[]} is taking a while...\n",
      "2025-01-11 19:34:55.743753: E external/local_xla/xla/service/slow_operation_alarm.cc:133] The operation took 1.067462438s\n",
      "Trying algorithm eng11{k2=3,k3=0} for conv (f32[32,128,112,112]{3,2,1,0}, u8[0]{0}) custom-call(f32[32,128,112,112]{3,2,1,0}, f32[128,128,3,3]{3,2,1,0}, f32[128]{0}), window={size=3x3 pad=1_1x1_1}, dim_labels=bf01_oi01->bf01, custom_call_target=\"__cudnn$convBiasActivationForward\", backend_config={\"cudnn_conv_backend_config\":{\"activation_mode\":\"kRelu\",\"conv_result_scale\":1,\"leakyrelu_alpha\":0,\"side_input_scale\":0},\"force_earliest_schedule\":false,\"operation_queue_id\":\"0\",\"wait_on_operation_queues\":[]} is taking a while...\n",
      "2025-01-11 19:34:56.743947: E external/local_xla/xla/service/slow_operation_alarm.cc:65] Trying algorithm eng11{k2=1,k3=0} for conv (f32[32,128,112,112]{3,2,1,0}, u8[0]{0}) custom-call(f32[32,128,112,112]{3,2,1,0}, f32[128,128,3,3]{3,2,1,0}, f32[128]{0}), window={size=3x3 pad=1_1x1_1}, dim_labels=bf01_oi01->bf01, custom_call_target=\"__cudnn$convBiasActivationForward\", backend_config={\"cudnn_conv_backend_config\":{\"activation_mode\":\"kRelu\",\"conv_result_scale\":1,\"leakyrelu_alpha\":0,\"side_input_scale\":0},\"force_earliest_schedule\":false,\"operation_queue_id\":\"0\",\"wait_on_operation_queues\":[]} is taking a while...\n",
      "2025-01-11 19:34:58.227623: E external/local_xla/xla/service/slow_operation_alarm.cc:133] The operation took 2.483778233s\n",
      "Trying algorithm eng11{k2=1,k3=0} for conv (f32[32,128,112,112]{3,2,1,0}, u8[0]{0}) custom-call(f32[32,128,112,112]{3,2,1,0}, f32[128,128,3,3]{3,2,1,0}, f32[128]{0}), window={size=3x3 pad=1_1x1_1}, dim_labels=bf01_oi01->bf01, custom_call_target=\"__cudnn$convBiasActivationForward\", backend_config={\"cudnn_conv_backend_config\":{\"activation_mode\":\"kRelu\",\"conv_result_scale\":1,\"leakyrelu_alpha\":0,\"side_input_scale\":0},\"force_earliest_schedule\":false,\"operation_queue_id\":\"0\",\"wait_on_operation_queues\":[]} is taking a while...\n"
     ]
    },
    {
     "name": "stdout",
     "output_type": "stream",
     "text": [
      "\u001b[1m20/20\u001b[0m \u001b[32m━━━━━━━━━━━━━━━━━━━━\u001b[0m\u001b[37m\u001b[0m \u001b[1m78s\u001b[0m 2s/step \n"
     ]
    },
    {
     "name": "stderr",
     "output_type": "stream",
     "text": [
      "2025-01-11 19:35:51.153210: I tensorflow/core/framework/local_rendezvous.cc:405] Local rendezvous is aborting with status: OUT_OF_RANGE: End of sequence\n",
      "2025-01-11 19:35:57.859401: I external/local_xla/xla/stream_executor/cuda/cuda_asm_compiler.cc:397] ptxas warning : Registers are spilled to local memory in function 'gemm_fusion_dot_3275_0', 8 bytes spill stores, 8 bytes spill loads\n",
      "\n",
      "2025-01-11 19:35:58.140260: I external/local_xla/xla/stream_executor/cuda/cuda_asm_compiler.cc:397] ptxas warning : Registers are spilled to local memory in function 'gemm_fusion_dot_3275_0', 100 bytes spill stores, 100 bytes spill loads\n",
      "\n",
      "2025-01-11 19:35:58.211430: I external/local_xla/xla/stream_executor/cuda/cuda_asm_compiler.cc:397] ptxas warning : Registers are spilled to local memory in function 'gemm_fusion_dot_3275', 204 bytes spill stores, 204 bytes spill loads\n",
      "\n"
     ]
    },
    {
     "name": "stdout",
     "output_type": "stream",
     "text": [
      "\u001b[1m20/20\u001b[0m \u001b[32m━━━━━━━━━━━━━━━━━━━━\u001b[0m\u001b[37m\u001b[0m \u001b[1m107s\u001b[0m 3s/step\n",
      "\u001b[1m20/20\u001b[0m \u001b[32m━━━━━━━━━━━━━━━━━━━━\u001b[0m\u001b[37m\u001b[0m \u001b[1m10s\u001b[0m 159ms/step\n"
     ]
    },
    {
     "name": "stderr",
     "output_type": "stream",
     "text": [
      "2025-01-11 19:37:53.100371: I tensorflow/core/framework/local_rendezvous.cc:405] Local rendezvous is aborting with status: OUT_OF_RANGE: End of sequence\n"
     ]
    },
    {
     "data": {
      "image/png": "[encoded data removed]",
      "text/plain": [
       "<Figure size 1200x600 with 1 Axes>"
      ]
     },
     "metadata": {},
     "output_type": "display_data"
    },
    {
     "data": {
      "image/png": "[encoded data removed]",
      "text/plain": [
       "<Figure size 1500x1500 with 8 Axes>"
      ]
     },
     "metadata": {},
     "output_type": "display_data"
    },
    {
     "name": "stdout",
     "output_type": "stream",
     "text": [
      "\n",
      "Model Performance Metrics:\n",
      "         Model  Recall F1 Score\n",
      "0     ResNet50  0.9846   0.8610\n",
      "1        VGG16  0.6923   0.8072\n",
      "2  DenseNet121  0.9564   0.8999\n",
      "3          CNN  0.9436   0.9064\n"
     ]
    }
   ],
   "source": [
    "device = setup_gpu()\n",
    "gpus = tf.config.list_physical_devices('GPU')\n",
    "if gpus:\n",
    "    print(\"Running code on GPU:\", gpus)\n",
    "else:\n",
    "    print(\"Running code on CPU:\", tf.config.list_physical_devices('CPU'))\n",
    "\n",
    "train_ds, val_ds, test_ds = create_data_generators()\n",
    "\n",
    "#results = compare_models()\n",
    "#plot_results(results)\n",
    "metrics = load_and_evaluate_models(test_ds)\n",
    "\n",
    "# Create visualizations\n",
    "plot_performance_comparison(metrics)\n",
    "plot_confusion_matrices(metrics)\n",
    "\n",
    "# Display performance table\n",
    "performance_table = create_performance_table(metrics)\n",
    "print(\"\\nModel Performance Metrics:\")\n",
    "print(performance_table)\n",
    "\n",
    "\n"
   ]
  }
 ],
 "metadata": {
  "kernelspec": {
   "display_name": "gpu_env",
   "language": "python",
   "name": "python3"
  },
  "language_info": {
   "codemirror_mode": {
    "name": "ipython",
    "version": 3
   },
   "file_extension": ".py",
   "mimetype": "text/x-python",
   "name": "python",
   "nbconvert_exporter": "python",
   "pygments_lexer": "ipython3",
   "version": "3.10.11"
  }
 },
 "nbformat": 4,
 "nbformat_minor": 2
}
